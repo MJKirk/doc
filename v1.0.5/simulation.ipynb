{
 "cells": [
  {
   "cell_type": "code",
   "execution_count": 1,
   "metadata": {
    "execution": {
     "iopub.execute_input": "2022-08-11T11:27:50.057097Z",
     "iopub.status.busy": "2022-08-11T11:27:50.056607Z",
     "iopub.status.idle": "2022-08-11T11:27:50.931150Z",
     "shell.execute_reply": "2022-08-11T11:27:50.930551Z"
    }
   },
   "outputs": [],
   "source": [
    "import eos\n",
    "import pypmc\n",
    "import numpy as np\n",
    "import matplotlib.pyplot as plt"
   ]
  },
  {
   "cell_type": "markdown",
   "metadata": {},
   "source": [
    "# Simulation of Pseudo Events"
   ]
  },
  {
   "cell_type": "markdown",
   "metadata": {},
   "source": [
    "EOS can simulate pseudo events from any of its built-in PDFs using Markov chain Monte Carlo techniques.\n",
    "The examples following in this section illustrate how to find a specific PDF from the list of all built-in PDFs,\n",
    "simulate the pseudo events from this object, compare to the pseudo events with the analytic results,\n",
    "and plot 1D and 2D histograms of the pseudo events."
   ]
  },
  {
   "cell_type": "markdown",
   "metadata": {},
   "source": [
    "## Listing the built-in Probability Density Functions"
   ]
  },
  {
   "cell_type": "markdown",
   "metadata": {},
   "source": [
    "You can show the list of probability density functions (PDFs) using the [SignalPDFs](api/python.rst#eos.SignalPDFs) class.\n",
    "Searching for a specific observable is possible filtering by the full signal PDF name's *prefix*, *name*, or *suffix*, e.g.:"
   ]
  },
  {
   "cell_type": "code",
   "execution_count": 2,
   "metadata": {
    "execution": {
     "iopub.execute_input": "2022-08-11T11:27:50.935451Z",
     "iopub.status.busy": "2022-08-11T11:27:50.934859Z",
     "iopub.status.idle": "2022-08-11T11:27:50.942343Z",
     "shell.execute_reply": "2022-08-11T11:27:50.941816Z"
    },
    "scrolled": true
   },
   "outputs": [
    {
     "data": {
      "text/html": [
       "<table>      <tr><th><tt style=\"color:grey\">B->Dlnu::dGamma/dq2</tt></th><td style=\"text-align:left\">    The decay B->P l nu, where both B=(B qbar) and P=(U qbar) are pseudoscalars, and l=e,mu,tau is a lepton.</td></tr>      <tr><th><tt style=\"color:grey\">B->Dlnu::d^2Gamma/dq2/dcos(theta_l)</tt></th><td style=\"text-align:left\">    The decay B->P l nu, where both B=(B qbar) and P=(U qbar) are pseudoscalars, and l=e,mu,tau is a lepton.</td></tr></table>"
      ],
      "text/plain": [
       "<eos.signal_pdf.SignalPDFs at 0x7f264eaffc90>"
      ]
     },
     "execution_count": 2,
     "metadata": {},
     "output_type": "execute_result"
    }
   ],
   "source": [
    "eos.SignalPDFs(prefix='B->Dlnu')"
   ]
  },
  {
   "cell_type": "markdown",
   "metadata": {},
   "source": [
    "## Constructing a 1D PDF and Simulating Pseudo Events"
   ]
  },
  {
   "cell_type": "markdown",
   "metadata": {},
   "source": [
    "We construct the one-dimension PDF describing the decay distribution in the variable $q^2$ and for $\\ell=\\mu$ leptons. We create the ``q2`` kinematic variable and set it to an arbitrary starting value.\n",
    "We set boundaries for the phase space from which we want to sample through the kinematic variables ``q2_min`` and ``q2_max``. If needed, we can shrink the phase space to a volume smaller than physically allowed. The normalization of the PDF will automatically adapt.\n",
    "\n",
    "We simulate ``stride * N=250000`` pseudo events/samples from the PDF, which are thinned down to ``N=50000``.\n",
    "The Markov chains can self adapt to the PDF in ``preruns=3`` preruns with ``pre_N=1000`` pseudo events/samples each."
   ]
  },
  {
   "cell_type": "code",
   "execution_count": 3,
   "metadata": {
    "execution": {
     "iopub.execute_input": "2022-08-11T11:27:50.944878Z",
     "iopub.status.busy": "2022-08-11T11:27:50.944678Z",
     "iopub.status.idle": "2022-08-11T11:27:54.369672Z",
     "shell.execute_reply": "2022-08-11T11:27:54.369079Z"
    }
   },
   "outputs": [
    {
     "name": "stderr",
     "output_type": "stream",
     "text": [
      "INFO:EOS:Prerun 0 out of 3\n"
     ]
    },
    {
     "name": "stderr",
     "output_type": "stream",
     "text": [
      "INFO:EOS:Prerun 0: acceptance rate is  87%\n"
     ]
    },
    {
     "name": "stderr",
     "output_type": "stream",
     "text": [
      "INFO:EOS:Prerun 1 out of 3\n"
     ]
    },
    {
     "name": "stderr",
     "output_type": "stream",
     "text": [
      "INFO:EOS:Prerun 1: acceptance rate is  39%\n"
     ]
    },
    {
     "name": "stderr",
     "output_type": "stream",
     "text": [
      "INFO:EOS:Prerun 2 out of 3\n"
     ]
    },
    {
     "name": "stderr",
     "output_type": "stream",
     "text": [
      "INFO:EOS:Prerun 2: acceptance rate is  32%\n"
     ]
    },
    {
     "name": "stderr",
     "output_type": "stream",
     "text": [
      "INFO:EOS:Main run: started ...\n"
     ]
    },
    {
     "name": "stderr",
     "output_type": "stream",
     "text": [
      "INFO:EOS:Main run: acceptance rate is  29%\n"
     ]
    }
   ],
   "source": [
    "mu_kinematics = eos.Kinematics({\n",
    "    'q2':            2.0,  'q2_min':            0.02,     'q2_max':           11.6,\n",
    "})\n",
    "mu_pdf = eos.SignalPDF.make('B->Dlnu::dGamma/dq2', eos.Parameters(), mu_kinematics, eos.Options())\n",
    "rng = np.random.mtrand.RandomState(74205)\n",
    "mu_samples, mu_weights = mu_pdf.sample_mcmc(N=50000, stride=5, pre_N=1000, preruns=3, rng=rng)"
   ]
  },
  {
   "cell_type": "markdown",
   "metadata": {},
   "source": [
    "We repeat the exercise for $\\ell=\\tau$ leptons, and adapt the phase space accordingly."
   ]
  },
  {
   "cell_type": "code",
   "execution_count": 4,
   "metadata": {
    "execution": {
     "iopub.execute_input": "2022-08-11T11:27:54.372856Z",
     "iopub.status.busy": "2022-08-11T11:27:54.372639Z",
     "iopub.status.idle": "2022-08-11T11:27:57.742415Z",
     "shell.execute_reply": "2022-08-11T11:27:57.741819Z"
    }
   },
   "outputs": [
    {
     "name": "stderr",
     "output_type": "stream",
     "text": [
      "INFO:EOS:Prerun 0 out of 3\n"
     ]
    },
    {
     "name": "stderr",
     "output_type": "stream",
     "text": [
      "INFO:EOS:Prerun 0: acceptance rate is  89%\n"
     ]
    },
    {
     "name": "stderr",
     "output_type": "stream",
     "text": [
      "INFO:EOS:Prerun 1 out of 3\n"
     ]
    },
    {
     "name": "stderr",
     "output_type": "stream",
     "text": [
      "INFO:EOS:Prerun 1: acceptance rate is  42%\n"
     ]
    },
    {
     "name": "stderr",
     "output_type": "stream",
     "text": [
      "INFO:EOS:Prerun 2 out of 3\n"
     ]
    },
    {
     "name": "stderr",
     "output_type": "stream",
     "text": [
      "INFO:EOS:Prerun 2: acceptance rate is  38%\n"
     ]
    },
    {
     "name": "stderr",
     "output_type": "stream",
     "text": [
      "INFO:EOS:Main run: started ...\n"
     ]
    },
    {
     "name": "stderr",
     "output_type": "stream",
     "text": [
      "INFO:EOS:Main run: acceptance rate is  29%\n"
     ]
    }
   ],
   "source": [
    "tau_kinematics = eos.Kinematics({\n",
    "    'q2':            4.0,  'q2_min':            3.17,     'q2_max':           11.6,\n",
    "})\n",
    "tau_pdf = eos.SignalPDF.make('B->Dlnu::dGamma/dq2', eos.Parameters(), tau_kinematics, eos.Options(l='tau'))\n",
    "rng = np.random.mtrand.RandomState(74205)\n",
    "tau_samples, tau_weights = tau_pdf.sample_mcmc(N=50000, stride=5, pre_N=1000, preruns=3, rng=rng)"
   ]
  },
  {
   "cell_type": "markdown",
   "metadata": {},
   "source": [
    "## Comparing the 1D PDF samples with the analytic result ##"
   ]
  },
  {
   "cell_type": "markdown",
   "metadata": {},
   "source": [
    "We can now histogram the samples and compare the histogram with the analytical result.\n",
    "Similar to observables, [SignalPDF](api/python.rst#eos.SignalPDF) objects can be plotted as a function of a single kinematic variable,\n",
    "while keeping all other kinematic variables fixed. The latter is achieved via the ``kinematics`` key."
   ]
  },
  {
   "cell_type": "code",
   "execution_count": 5,
   "metadata": {
    "execution": {
     "iopub.execute_input": "2022-08-11T11:27:57.745851Z",
     "iopub.status.busy": "2022-08-11T11:27:57.745530Z",
     "iopub.status.idle": "2022-08-11T11:27:59.355232Z",
     "shell.execute_reply": "2022-08-11T11:27:59.354665Z"
    },
    "scrolled": true
   },
   "outputs": [
    {
     "name": "stderr",
     "output_type": "stream",
     "text": [
      "INFO:EOS:   plotting EOS PDF \"B->Dlnu::dGamma/dq2;l=mu\"\n"
     ]
    },
    {
     "name": "stderr",
     "output_type": "stream",
     "text": [
      "INFO:EOS:   plotting EOS PDF \"B->Dlnu::dGamma/dq2;l=tau\"\n"
     ]
    },
    {
     "data": {
      "text/plain": [
       "(<Figure size 432x288 with 1 Axes>,\n",
       " <AxesSubplot:xlabel='$q^2$\\\\,[$\\\\textnormal{GeV}^2$]', ylabel='$P(q^2)$'>)"
      ]
     },
     "execution_count": 5,
     "metadata": {},
     "output_type": "execute_result"
    },
    {
     "data": {
      "image/png": "[encoded data removed]",
      "text/plain": [
       "<Figure size 432x288 with 1 Axes>"
      ]
     },
     "metadata": {
      "needs_background": "light"
     },
     "output_type": "display_data"
    }
   ],
   "source": [
    "plot_args = {\n",
    "    'plot': {\n",
    "        'x': { 'label': r'$q^2$', 'unit': r'$\\textnormal{GeV}^2$', 'range': [0.0, 11.60] },\n",
    "        'y': { 'label': r'$P(q^2)$',                               'range': [0.0,  0.25] },\n",
    "        'legend': { 'location': 'upper left' }\n",
    "    },\n",
    "    'contents': [\n",
    "        {\n",
    "            'label': r'samples ($\\ell=\\mu$)',\n",
    "            'type': 'histogram',\n",
    "            'data': {\n",
    "                'samples': mu_samples\n",
    "            },\n",
    "            'color': 'C0'\n",
    "        },\n",
    "        {\n",
    "            'label': r'samples ($\\ell=\\tau$)',\n",
    "            'type': 'histogram',\n",
    "            'data': {\n",
    "                'samples': tau_samples\n",
    "            },\n",
    "            'color': 'C1'\n",
    "        },\n",
    "        {\n",
    "            'label': r'PDF ($\\ell=\\mu$)',\n",
    "            'type': 'signal-pdf',\n",
    "            'pdf': 'B->Dlnu::dGamma/dq2;l=mu',\n",
    "            'kinematic': 'q2',\n",
    "            'range': [0.02, 11.60],\n",
    "            'kinematics': {\n",
    "                'q2_min':  0.02,\n",
    "                'q2_max': 11.60,\n",
    "            },\n",
    "            'color': 'C0'\n",
    "        },\n",
    "        {\n",
    "            'label': r'PDF ($\\ell=\\tau$)',\n",
    "            'type': 'signal-pdf',\n",
    "            'pdf': 'B->Dlnu::dGamma/dq2;l=tau',\n",
    "            'kinematic': 'q2',\n",
    "            'range': [3.17, 11.60],\n",
    "            'kinematics': {\n",
    "                'q2_min':  3.17,\n",
    "                'q2_max': 11.60,\n",
    "            },\n",
    "            'color': 'C1'\n",
    "        },\n",
    "    ]\n",
    "}\n",
    "eos.plot.Plotter(plot_args).plot()"
   ]
  },
  {
   "cell_type": "markdown",
   "metadata": {},
   "source": [
    "As you can see, we have excellent agreement between our simulations and the respective analytic expressions for the PDFs."
   ]
  },
  {
   "cell_type": "markdown",
   "metadata": {},
   "source": [
    "## Constructing a 4D PDF and Simulating Pseudo Events"
   ]
  },
  {
   "cell_type": "markdown",
   "metadata": {},
   "source": [
    "We can also draw samples for PDFs with more than two kinematic variables. Here, we\n",
    "use the full four-dimensional PDF for $\\bar{B}\\to D^*\\ell^-\\bar\\nu$ decays.\n",
    "\n",
    "We declare and initialize all four kinematic variables (``q2``, ``cos(theta_l)``, ``cos(theta_d)``, and ``phi``),\n",
    "and provide the phase space boundaries (same names appended with ``_min`` and ``_max``).\n",
    "\n",
    "We then produce the samples as for the 1D PDF."
   ]
  },
  {
   "cell_type": "code",
   "execution_count": 6,
   "metadata": {
    "execution": {
     "iopub.execute_input": "2022-08-11T11:27:59.358279Z",
     "iopub.status.busy": "2022-08-11T11:27:59.358035Z",
     "iopub.status.idle": "2022-08-11T11:28:02.959475Z",
     "shell.execute_reply": "2022-08-11T11:28:02.958836Z"
    },
    "scrolled": false
   },
   "outputs": [
    {
     "name": "stderr",
     "output_type": "stream",
     "text": [
      "INFO:EOS:Prerun 0 out of 3\n"
     ]
    },
    {
     "name": "stderr",
     "output_type": "stream",
     "text": [
      "INFO:EOS:Prerun 0: acceptance rate is  61%\n"
     ]
    },
    {
     "name": "stderr",
     "output_type": "stream",
     "text": [
      "INFO:EOS:Prerun 1 out of 3\n"
     ]
    },
    {
     "name": "stderr",
     "output_type": "stream",
     "text": [
      "INFO:EOS:Prerun 1: acceptance rate is  15%\n"
     ]
    },
    {
     "name": "stderr",
     "output_type": "stream",
     "text": [
      "INFO:EOS:Prerun 2 out of 3\n"
     ]
    },
    {
     "name": "stderr",
     "output_type": "stream",
     "text": [
      "INFO:EOS:Prerun 2: acceptance rate is  19%\n"
     ]
    },
    {
     "name": "stderr",
     "output_type": "stream",
     "text": [
      "INFO:EOS:Main run: started ...\n"
     ]
    },
    {
     "name": "stderr",
     "output_type": "stream",
     "text": [
      "INFO:EOS:Main run: acceptance rate is  19%\n"
     ]
    }
   ],
   "source": [
    "dstarlnu_kinematics = eos.Kinematics({\n",
    "    'q2':            2.0,  'q2_min':            0.02,     'q2_max':           10.5,\n",
    "    'cos(theta_l)':  0.0,  'cos(theta_l)_min': -1.0,      'cos(theta_l)_max': +1.0,\n",
    "    'cos(theta_d)':  0.0,  'cos(theta_d)_min': -1.0,      'cos(theta_d)_max': +1.0,\n",
    "    'phi':           0.3,  'phi_min':           0.0,      'phi_max':           2.0 * np.pi\n",
    "})\n",
    "dstarlnu_pdf = eos.SignalPDF.make('B->D^*lnu::d^4Gamma', eos.Parameters(), dstarlnu_kinematics, eos.Options())\n",
    "rng = np.random.mtrand.RandomState(74205)\n",
    "dstarlnu_samples, _ = dstarlnu_pdf.sample_mcmc(N=50000, stride=5, pre_N=1000, preruns=3, rng=rng)"
   ]
  },
  {
   "cell_type": "markdown",
   "metadata": {},
   "source": [
    "We can now show correlations of the kinematic variables by plotting 2D histograms, beginning with $q^2$ vs $\\cos\\theta_\\ell$, ..."
   ]
  },
  {
   "cell_type": "code",
   "execution_count": 7,
   "metadata": {
    "execution": {
     "iopub.execute_input": "2022-08-11T11:28:02.962560Z",
     "iopub.status.busy": "2022-08-11T11:28:02.962246Z",
     "iopub.status.idle": "2022-08-11T11:28:03.700371Z",
     "shell.execute_reply": "2022-08-11T11:28:03.699780Z"
    }
   },
   "outputs": [
    {
     "data": {
      "text/plain": [
       "(<Figure size 432x288 with 1 Axes>,\n",
       " <AxesSubplot:xlabel='$q^2$\\\\,[$\\\\textnormal{GeV}^2$]', ylabel='$cos(\\\\theta_\\\\ell)$'>)"
      ]
     },
     "execution_count": 7,
     "metadata": {},
     "output_type": "execute_result"
    },
    {
     "data": {
      "image/png": "[encoded data removed]",
      "text/plain": [
       "<Figure size 432x288 with 1 Axes>"
      ]
     },
     "metadata": {
      "needs_background": "light"
     },
     "output_type": "display_data"
    }
   ],
   "source": [
    "plot_args = {\n",
    "    'plot': {\n",
    "        'x': { 'label': r'$q^2$', 'unit': r'$\\textnormal{GeV}^2$', 'range': [ 0.0, 10.50] },\n",
    "        'y': { 'label': r'$cos(\\theta_\\ell)$',                     'range': [-1.0,  +1.0] },\n",
    "        'legend': { 'location': 'upper left' }\n",
    "    },\n",
    "    'contents': [\n",
    "        {\n",
    "            'label': r'samples ($\\ell=\\mu$)',\n",
    "            'type': 'histogram2D',\n",
    "            'data': {\n",
    "                'samples': dstarlnu_samples[:, (0, 1)]\n",
    "            },\n",
    "            'bins': 40\n",
    "        },\n",
    "    ]\n",
    "}\n",
    "eos.plot.Plotter(plot_args).plot()"
   ]
  },
  {
   "cell_type": "markdown",
   "metadata": {},
   "source": [
    "... over $\\cos\\theta_\\ell$ vs $\\cos\\theta_D$ ..."
   ]
  },
  {
   "cell_type": "code",
   "execution_count": 8,
   "metadata": {
    "execution": {
     "iopub.execute_input": "2022-08-11T11:28:03.703365Z",
     "iopub.status.busy": "2022-08-11T11:28:03.703145Z",
     "iopub.status.idle": "2022-08-11T11:28:03.935519Z",
     "shell.execute_reply": "2022-08-11T11:28:03.934829Z"
    }
   },
   "outputs": [
    {
     "data": {
      "text/plain": [
       "(<Figure size 432x288 with 1 Axes>,\n",
       " <AxesSubplot:xlabel='$cos(\\\\theta_\\\\ell)$', ylabel='$cos(\\\\theta_D)$'>)"
      ]
     },
     "execution_count": 8,
     "metadata": {},
     "output_type": "execute_result"
    },
    {
     "data": {
      "image/png": "[encoded data removed]",
      "text/plain": [
       "<Figure size 432x288 with 1 Axes>"
      ]
     },
     "metadata": {
      "needs_background": "light"
     },
     "output_type": "display_data"
    }
   ],
   "source": [
    "plot_args = {\n",
    "    'plot': {\n",
    "        'x': { 'label': r'$cos(\\theta_\\ell)$',                     'range': [-1.0,  +1.0] },\n",
    "        'y': { 'label': r'$cos(\\theta_D)$',                        'range': [-1.0,  +1.0] },\n",
    "        'legend': { 'location': 'upper left' }\n",
    "    },\n",
    "    'contents': [\n",
    "        {\n",
    "            'label': r'samples ($\\ell=\\mu$)',\n",
    "            'type': 'histogram2D',\n",
    "            'data': {\n",
    "                'samples': dstarlnu_samples[:, (1, 2)]\n",
    "            },\n",
    "            'bins': 40\n",
    "        },\n",
    "    ]\n",
    "}\n",
    "eos.plot.Plotter(plot_args).plot()"
   ]
  },
  {
   "cell_type": "markdown",
   "metadata": {},
   "source": [
    "... to $q^2$ vs $\\phi$."
   ]
  },
  {
   "cell_type": "code",
   "execution_count": 9,
   "metadata": {
    "execution": {
     "iopub.execute_input": "2022-08-11T11:28:03.938397Z",
     "iopub.status.busy": "2022-08-11T11:28:03.938181Z",
     "iopub.status.idle": "2022-08-11T11:28:04.456402Z",
     "shell.execute_reply": "2022-08-11T11:28:04.455827Z"
    }
   },
   "outputs": [
    {
     "data": {
      "text/plain": [
       "(<Figure size 432x288 with 1 Axes>,\n",
       " <AxesSubplot:xlabel='$q^2$\\\\,[$\\\\textnormal{GeV}^2$]', ylabel='$\\\\phi$'>)"
      ]
     },
     "execution_count": 9,
     "metadata": {},
     "output_type": "execute_result"
    },
    {
     "data": {
      "image/png": "[encoded data removed]",
      "text/plain": [
       "<Figure size 432x288 with 1 Axes>"
      ]
     },
     "metadata": {
      "needs_background": "light"
     },
     "output_type": "display_data"
    }
   ],
   "source": [
    "plot_args = {\n",
    "    'plot': {\n",
    "        'x': { 'label': r'$q^2$', 'unit': r'$\\textnormal{GeV}^2$', 'range': [0.0, 10.70] },\n",
    "        'y': { 'label': r'$\\phi$',                                 'range': [0.0,  6.28] },\n",
    "        'legend': { 'location': 'upper left' }\n",
    "    },\n",
    "    'contents': [\n",
    "        {\n",
    "            'label': r'samples ($\\ell=\\mu$)',\n",
    "            'type': 'histogram2D',\n",
    "            'data': {\n",
    "                'samples': dstarlnu_samples[:, (0, 3)]\n",
    "            },\n",
    "            'bins': 40\n",
    "        },\n",
    "    ]\n",
    "}\n",
    "eos.plot.Plotter(plot_args).plot()"
   ]
  }
 ],
 "metadata": {
  "kernelspec": {
   "display_name": "Python 3",
   "language": "python",
   "name": "python3"
  },
  "language_info": {
   "codemirror_mode": {
    "name": "ipython",
    "version": 3
   },
   "file_extension": ".py",
   "mimetype": "text/x-python",
   "name": "python",
   "nbconvert_exporter": "python",
   "pygments_lexer": "ipython3",
   "version": "3.10.4"
  }
 },
 "nbformat": 4,
 "nbformat_minor": 2
}
