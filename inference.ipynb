{
 "cells": [
  {
   "cell_type": "markdown",
   "metadata": {},
   "source": [
    "# Parameter Inference"
   ]
  },
  {
   "cell_type": "markdown",
   "metadata": {},
   "source": [
    "EOS can infer parameters based on a database of experimental or theoretical constraints and its built-in observables.\n",
    "The examples in this notebook illustrate how to find a specific constraint from the list of all built-in observables,\n",
    "construct an [eos.Analysis](api/python.rst#eos.Analysis) object that represents the statistical analysis,\n",
    "and infer mean value and standard deviation of a list of parameters through optimization or Monte Carlo methods."
   ]
  },
  {
   "cell_type": "markdown",
   "metadata": {},
   "source": [
    "## Listing the built-in Constraints"
   ]
  },
  {
   "cell_type": "markdown",
   "metadata": {},
   "source": [
    "The full list of built-in constraints for the most-recent EOS release is available online [here](https://eos.github.io/doc/constraints). You can also show this list using the [eos.Constraints](api/python.rst#eos.Constraints) class.  Searching for a specific constraint is possible by filtering for specific strings in the constraint name’s *prefix*, *name*, or *suffix* parts. The following example only shows constraints that contain a `'->D'` in the prefix part:"
   ]
  },
  {
   "cell_type": "code",
   "execution_count": 1,
   "metadata": {
    "ExecuteTime": {
     "end_time": "2021-10-21T13:15:08.490501Z",
     "start_time": "2021-10-21T13:15:07.686555Z"
    },
    "execution": {
     "iopub.execute_input": "2022-07-06T09:50:55.836223Z",
     "iopub.status.busy": "2022-07-06T09:50:55.835820Z",
     "iopub.status.idle": "2022-07-06T09:50:57.049591Z",
     "shell.execute_reply": "2022-07-06T09:50:57.048936Z"
    }
   },
   "outputs": [
    {
     "data": {
      "text/html": [
       "\n",
       "        <script>\n",
       "            function toggle_obs(obs_anchor, id) {\n",
       "                var query_dots   = 'span.dots[id=\"' + id + '\"]'\n",
       "                var query_values = 'span.values[id=\"' + id + '\"]'\n",
       "                var dots   = obs_anchor.querySelector(query_dots)\n",
       "                var values = obs_anchor.querySelector(query_values)\n",
       "                if (dots.style.display == \"none\") {\n",
       "                    dots.style.display   = \"inline\"\n",
       "                    values.style.display = \"none\"\n",
       "                } else {\n",
       "                    dots.style.display   = \"none\"\n",
       "                    values.style.display = \"inline\"\n",
       "                }\n",
       "            }\n",
       "        </script>\n",
       "        <table>\n",
       "            <colgroup>\n",
       "                <col width=\"50%\" id=\"qn\"     style=\"min-width: 200px\">\n",
       "                <col width=\"25%\" id=\"type\"   style=\"min-width: 200px\">\n",
       "                <col width=\"15%\" id=\"type\"   style=\"min-width: 100px\">\n",
       "                <col width=\"10%\" id=\"ref\"    style=\"min-width: 100px\">\n",
       "            </colgroup>\n",
       "            <thead>\n",
       "                <tr>\n",
       "                    <th>qualified name</th>\n",
       "                    <th>observables</th>\n",
       "                    <th>type</th>\n",
       "                    <th>reference</th>\n",
       "                </tr>\n",
       "            </thead>\n",
       "                <tr>\n",
       "                    <td><tt>B->D::f_++f_0@FNAL+MILC:2015B</tt></td>\n",
       "                    <td><a onclick=\"toggle_obs(this, 'con0-obs')\">\n",
       "                <span class=\"dots\"   id=\"con0-obs\" style=\"display: inline; text-align: left\">...</span>\n",
       "                <span class=\"values\" id=\"con0-obs\" style=\"display: none;   text-align: left\">\n",
       "               <tt>B->D::f_+(q2)</tt><br/><tt>B->D::f_0(q2)</tt>\n",
       "                </span>\n",
       "            </a></td>\n",
       "                    <td>MultivariateGaussian</td>\n",
       "                    <td><a \" href=\"https://arxiv.org/abs/1503.07237\"\">FNAL+MILC:2015B</a></td>\n",
       "                </tr>\n",
       "                <tr>\n",
       "                    <td><tt>B->D::f_++f_0@HPQCD:2015A</tt></td>\n",
       "                    <td><a onclick=\"toggle_obs(this, 'con0-obs')\">\n",
       "                <span class=\"dots\"   id=\"con0-obs\" style=\"display: inline; text-align: left\">...</span>\n",
       "                <span class=\"values\" id=\"con0-obs\" style=\"display: none;   text-align: left\">\n",
       "               <tt>B->D::f_+(q2)</tt><br/><tt>B->D::f_0(q2)</tt>\n",
       "                </span>\n",
       "            </a></td>\n",
       "                    <td>MultivariateGaussian</td>\n",
       "                    <td><a \" href=\"https://arxiv.org/abs/1505.03925\"\">HPQCD:2015A</a></td>\n",
       "                </tr>\n",
       "                <tr>\n",
       "                    <td><tt>B->D::f_+@FKKM:2008A</tt></td>\n",
       "                    <td><a onclick=\"toggle_obs(this, 'con0-obs')\">\n",
       "                <span class=\"dots\"   id=\"con0-obs\" style=\"display: inline; text-align: left\">...</span>\n",
       "                <span class=\"values\" id=\"con0-obs\" style=\"display: none;   text-align: left\">\n",
       "               <tt>B->D::f_+(q2)</tt>\n",
       "                </span>\n",
       "            </a></td>\n",
       "                    <td>Gaussian</td>\n",
       "                    <td><a \" href=\"https://arxiv.org/abs/0809.0222\"\">FKKM:2008A</a></td>\n",
       "                </tr>\n",
       "                <tr>\n",
       "                    <td><tt>B->D^(*)::FormFactors[f_+,f_0,A_0,A_1,A_2,V,T_1,T_2,T_23]@GKvD:2018A</tt></td>\n",
       "                    <td><a onclick=\"toggle_obs(this, 'con0-obs')\">\n",
       "                <span class=\"dots\"   id=\"con0-obs\" style=\"display: inline; text-align: left\">...</span>\n",
       "                <span class=\"values\" id=\"con0-obs\" style=\"display: none;   text-align: left\">\n",
       "               <tt>B->D^*::T_2(q2)</tt><br/><tt>B->D^*::V(q2)</tt><br/><tt>B->D^*::T_1(q2)</tt><br/><tt>B->D^*::A_2(q2)</tt><br/><tt>B->D::f_0(q2)</tt><br/><tt>B->D^*::T_23(q2)</tt><br/><tt>B->D::f_+(q2)</tt><br/><tt>B->D^*::A_1(q2)</tt><br/><tt>B->D^*::A_0(q2)</tt>\n",
       "                </span>\n",
       "            </a></td>\n",
       "                    <td>MultivariateGaussian(Covariance)</td>\n",
       "                    <td><a \" href=\"https://arxiv.org/abs/1811.00983\"\">GKvD:2018A</a></td>\n",
       "                </tr>\n",
       "                <tr>\n",
       "                    <td><tt>B->D^(*)::FormFactors[f_+,f_0,f_T,A_0,A_1,A_2,V,T_1,T_2,T_23]@GKvD:2018A</tt></td>\n",
       "                    <td><a onclick=\"toggle_obs(this, 'con0-obs')\">\n",
       "                <span class=\"dots\"   id=\"con0-obs\" style=\"display: inline; text-align: left\">...</span>\n",
       "                <span class=\"values\" id=\"con0-obs\" style=\"display: none;   text-align: left\">\n",
       "               <tt>B->D^*::T_2(q2)</tt><br/><tt>B->D^*::V(q2)</tt><br/><tt>B->D^*::T_1(q2)</tt><br/><tt>B->D^*::A_1(q2)</tt><br/><tt>B->D^*::A_2(q2)</tt><br/><tt>B->D::f_0(q2)</tt><br/><tt>B->D^*::T_23(q2)</tt><br/><tt>B->D::f_+(q2)</tt><br/><tt>B->D::f_T(q2)</tt><br/><tt>B->D^*::A_0(q2)</tt>\n",
       "                </span>\n",
       "            </a></td>\n",
       "                    <td>MultivariateGaussian(Covariance)</td>\n",
       "                    <td><a \" href=\"https://arxiv.org/abs/1811.00983\"\">GKvD:2018A</a></td>\n",
       "                </tr>\n",
       "                <tr>\n",
       "                    <td><tt>B->D^(*)::FormFactors[parametric,LCSRLattice]@GKvD:2018A</tt></td>\n",
       "                    <td><a onclick=\"toggle_obs(this, 'con0-obs')\">\n",
       "                <span class=\"dots\"   id=\"con0-obs\" style=\"display: inline; text-align: left\">...</span>\n",
       "                <span class=\"values\" id=\"con0-obs\" style=\"display: none;   text-align: left\">\n",
       "               <tt>B->D^*::alpha^T1_1@BSZ2015</tt><br/><tt>B->D^*::alpha^T23_2@BSZ2015</tt><br/><tt>B->D::alpha^fT_1@BSZ2015</tt><br/><tt>B->D^*::alpha^T2_1@BSZ2015</tt><br/><tt>B->D::alpha^f+_0@BSZ2015</tt><br/><tt>B->D^*::alpha^T1_2@BSZ2015</tt><br/><tt>B->D^*::alpha^T2_2@BSZ2015</tt><br/><tt>B->D^*::alpha^A1_1@BSZ2015</tt><br/><tt>B->D^*::alpha^A1_0@BSZ2015</tt><br/><tt>B->D::alpha^f0_1@BSZ2015</tt><br/><tt>B->D^*::alpha^V_1@BSZ2015</tt><br/><tt>B->D^*::alpha^A0_1@BSZ2015</tt><br/><tt>B->D^*::alpha^V_0@BSZ2015</tt><br/><tt>B->D^*::alpha^A12_1@BSZ2015</tt><br/><tt>B->D::alpha^fT_2@BSZ2015</tt><br/><tt>B->D::alpha^f0_2@BSZ2015</tt><br/><tt>B->D^*::alpha^A0_2@BSZ2015</tt><br/><tt>B->D^*::alpha^T23_0@BSZ2015</tt><br/><tt>B->D^*::alpha^T1_0@BSZ2015</tt><br/><tt>B->D^*::alpha^T23_1@BSZ2015</tt><br/><tt>B->D::alpha^fT_0@BSZ2015</tt><br/><tt>B->D^*::alpha^A1_2@BSZ2015</tt><br/><tt>B->D^*::alpha^V_2@BSZ2015</tt><br/><tt>B->D::alpha^f+_1@BSZ2015</tt><br/><tt>B->D^*::alpha^A0_0@BSZ2015</tt><br/><tt>B->D^*::alpha^A12_2@BSZ2015</tt><br/><tt>B->D::alpha^f+_2@BSZ2015</tt>\n",
       "                </span>\n",
       "            </a></td>\n",
       "                    <td>MultivariateGaussian(Covariance)</td>\n",
       "                    <td><a \" href=\"https://arxiv.org/abs/1811.00983\"\">GKvD:2018A</a></td>\n",
       "                </tr>\n",
       "                <tr>\n",
       "                    <td><tt>B->D^(*)::FormFactors[parametric,LCSR]@GKvD:2018A</tt></td>\n",
       "                    <td><a onclick=\"toggle_obs(this, 'con0-obs')\">\n",
       "                <span class=\"dots\"   id=\"con0-obs\" style=\"display: inline; text-align: left\">...</span>\n",
       "                <span class=\"values\" id=\"con0-obs\" style=\"display: none;   text-align: left\">\n",
       "               <tt>B->D^*::alpha^T1_1@BSZ2015</tt><br/><tt>B->D^*::alpha^T23_2@BSZ2015</tt><br/><tt>B->D::alpha^fT_1@BSZ2015</tt><br/><tt>B->D^*::alpha^T2_1@BSZ2015</tt><br/><tt>B->D::alpha^f+_0@BSZ2015</tt><br/><tt>B->D^*::alpha^T1_2@BSZ2015</tt><br/><tt>B->D^*::alpha^T2_2@BSZ2015</tt><br/><tt>B->D^*::alpha^A1_1@BSZ2015</tt><br/><tt>B->D^*::alpha^A1_0@BSZ2015</tt><br/><tt>B->D::alpha^f0_1@BSZ2015</tt><br/><tt>B->D^*::alpha^V_1@BSZ2015</tt><br/><tt>B->D^*::alpha^A0_1@BSZ2015</tt><br/><tt>B->D^*::alpha^V_0@BSZ2015</tt><br/><tt>B->D^*::alpha^A12_1@BSZ2015</tt><br/><tt>B->D::alpha^fT_2@BSZ2015</tt><br/><tt>B->D::alpha^f0_2@BSZ2015</tt><br/><tt>B->D^*::alpha^A0_2@BSZ2015</tt><br/><tt>B->D^*::alpha^T23_0@BSZ2015</tt><br/><tt>B->D^*::alpha^T1_0@BSZ2015</tt><br/><tt>B->D^*::alpha^T23_1@BSZ2015</tt><br/><tt>B->D::alpha^fT_0@BSZ2015</tt><br/><tt>B->D^*::alpha^A1_2@BSZ2015</tt><br/><tt>B->D^*::alpha^V_2@BSZ2015</tt><br/><tt>B->D::alpha^f+_1@BSZ2015</tt><br/><tt>B->D^*::alpha^A0_0@BSZ2015</tt><br/><tt>B->D^*::alpha^A12_2@BSZ2015</tt><br/><tt>B->D::alpha^f+_2@BSZ2015</tt>\n",
       "                </span>\n",
       "            </a></td>\n",
       "                    <td>MultivariateGaussian(Covariance)</td>\n",
       "                    <td><a \" href=\"https://arxiv.org/abs/1811.00983\"\">GKvD:2018A</a></td>\n",
       "                </tr>\n",
       "                <tr>\n",
       "                    <td><tt>B->D^(*)lnu::R_D^(*)@HFLAV:2019A</tt></td>\n",
       "                    <td><a onclick=\"toggle_obs(this, 'con0-obs')\">\n",
       "                <span class=\"dots\"   id=\"con0-obs\" style=\"display: inline; text-align: left\">...</span>\n",
       "                <span class=\"values\" id=\"con0-obs\" style=\"display: none;   text-align: left\">\n",
       "               <tt>B->Dlnu::R_D</tt><br/><tt>B->D^*lnu::R_D^*</tt>\n",
       "                </span>\n",
       "            </a></td>\n",
       "                    <td>MultivariateGaussian(Covariance)</td>\n",
       "                    <td><a \" href=\"https://arxiv.org/abs/1909.12524\"\">HFLAV:2019A</a></td>\n",
       "                </tr>\n",
       "                <tr>\n",
       "                    <td><tt>B->D^*::A_1@FKKM:2008A</tt></td>\n",
       "                    <td><a onclick=\"toggle_obs(this, 'con0-obs')\">\n",
       "                <span class=\"dots\"   id=\"con0-obs\" style=\"display: inline; text-align: left\">...</span>\n",
       "                <span class=\"values\" id=\"con0-obs\" style=\"display: none;   text-align: left\">\n",
       "               <tt>B->D^*::A_1(q2)</tt>\n",
       "                </span>\n",
       "            </a></td>\n",
       "                    <td>Gaussian</td>\n",
       "                    <td><a \" href=\"https://arxiv.org/abs/0809.0222\"\">FKKM:2008A</a></td>\n",
       "                </tr>\n",
       "                <tr>\n",
       "                    <td><tt>B->D^*::A_1[s_max]@FNAL+MILC:2014A</tt></td>\n",
       "                    <td><a onclick=\"toggle_obs(this, 'con0-obs')\">\n",
       "                <span class=\"dots\"   id=\"con0-obs\" style=\"display: inline; text-align: left\">...</span>\n",
       "                <span class=\"values\" id=\"con0-obs\" style=\"display: none;   text-align: left\">\n",
       "               <tt>B->D^*::A_1(q2)</tt>\n",
       "                </span>\n",
       "            </a></td>\n",
       "                    <td>Gaussian</td>\n",
       "                    <td><a \" href=\"https://arxiv.org/abs/1403.0635\"\">FNAL+MILC:2014A</a></td>\n",
       "                </tr>\n",
       "                <tr>\n",
       "                    <td><tt>B->D^*::A_1[s_max]@HFLAV:2019A</tt></td>\n",
       "                    <td><a onclick=\"toggle_obs(this, 'con0-obs')\">\n",
       "                <span class=\"dots\"   id=\"con0-obs\" style=\"display: inline; text-align: left\">...</span>\n",
       "                <span class=\"values\" id=\"con0-obs\" style=\"display: none;   text-align: left\">\n",
       "               <tt>B->D^*::A_1(q2)</tt>\n",
       "                </span>\n",
       "            </a></td>\n",
       "                    <td>Gaussian</td>\n",
       "                    <td><a \" href=\"https://arxiv.org/abs/1909.12524\"\">HFLAV:2019A</a></td>\n",
       "                </tr>\n",
       "                <tr>\n",
       "                    <td><tt>B->D^*::A_1[s_max]@HPQCD:2017A</tt></td>\n",
       "                    <td><a onclick=\"toggle_obs(this, 'con0-obs')\">\n",
       "                <span class=\"dots\"   id=\"con0-obs\" style=\"display: inline; text-align: left\">...</span>\n",
       "                <span class=\"values\" id=\"con0-obs\" style=\"display: none;   text-align: left\">\n",
       "               <tt>B->D^*::A_1(q2)</tt>\n",
       "                </span>\n",
       "            </a></td>\n",
       "                    <td>Gaussian</td>\n",
       "                    <td><a \"\">HPQCD:2017A</a></td>\n",
       "                </tr>\n",
       "                <tr>\n",
       "                    <td><tt>B->D^*::A_2@FKKM:2008A</tt></td>\n",
       "                    <td><a onclick=\"toggle_obs(this, 'con0-obs')\">\n",
       "                <span class=\"dots\"   id=\"con0-obs\" style=\"display: inline; text-align: left\">...</span>\n",
       "                <span class=\"values\" id=\"con0-obs\" style=\"display: none;   text-align: left\">\n",
       "               <tt>B->D^*::A_2(q2)</tt>\n",
       "                </span>\n",
       "            </a></td>\n",
       "                    <td>Gaussian</td>\n",
       "                    <td><a \" href=\"https://arxiv.org/abs/0809.0222\"\">FKKM:2008A</a></td>\n",
       "                </tr>\n",
       "                <tr>\n",
       "                    <td><tt>B->D^*::V@FKKM:2008A</tt></td>\n",
       "                    <td><a onclick=\"toggle_obs(this, 'con0-obs')\">\n",
       "                <span class=\"dots\"   id=\"con0-obs\" style=\"display: inline; text-align: left\">...</span>\n",
       "                <span class=\"values\" id=\"con0-obs\" style=\"display: none;   text-align: left\">\n",
       "               <tt>B->D^*::V(q2)</tt>\n",
       "                </span>\n",
       "            </a></td>\n",
       "                    <td>Gaussian</td>\n",
       "                    <td><a \" href=\"https://arxiv.org/abs/0809.0222\"\">FKKM:2008A</a></td>\n",
       "                </tr>\n",
       "                <tr>\n",
       "                    <td><tt>B^0->D^+e^-nu::BRs@Belle:2015A</tt></td>\n",
       "                    <td><a onclick=\"toggle_obs(this, 'con0-obs')\">\n",
       "                <span class=\"dots\"   id=\"con0-obs\" style=\"display: inline; text-align: left\">...</span>\n",
       "                <span class=\"values\" id=\"con0-obs\" style=\"display: none;   text-align: left\">\n",
       "               <tt>B->Dlnu::BR</tt>\n",
       "                </span>\n",
       "            </a></td>\n",
       "                    <td>MultivariateGaussian(Covariance)</td>\n",
       "                    <td><a \" href=\"https://arxiv.org/abs/1510.03657\"\">Belle:2015A</a></td>\n",
       "                </tr>\n",
       "                <tr>\n",
       "                    <td><tt>B^0->D^+l^-nu::KinematicalDistribution[w]@Belle:2015A</tt></td>\n",
       "                    <td><a onclick=\"toggle_obs(this, 'con0-obs')\">\n",
       "                <span class=\"dots\"   id=\"con0-obs\" style=\"display: inline; text-align: left\">...</span>\n",
       "                <span class=\"values\" id=\"con0-obs\" style=\"display: none;   text-align: left\">\n",
       "               <tt>B->Dlnu::P(w_min,w_max)</tt>\n",
       "                </span>\n",
       "            </a></td>\n",
       "                    <td>MultivariateGaussian(Covariance)</td>\n",
       "                    <td><a \" href=\"https://arxiv.org/abs/1510.03657\"\">Belle:2015A</a></td>\n",
       "                </tr>\n",
       "                <tr>\n",
       "                    <td><tt>B^0->D^+mu^-nu::BRs@Belle:2015A</tt></td>\n",
       "                    <td><a onclick=\"toggle_obs(this, 'con0-obs')\">\n",
       "                <span class=\"dots\"   id=\"con0-obs\" style=\"display: inline; text-align: left\">...</span>\n",
       "                <span class=\"values\" id=\"con0-obs\" style=\"display: none;   text-align: left\">\n",
       "               <tt>B->Dlnu::BR</tt>\n",
       "                </span>\n",
       "            </a></td>\n",
       "                    <td>MultivariateGaussian(Covariance)</td>\n",
       "                    <td><a \" href=\"https://arxiv.org/abs/1510.03657\"\">Belle:2015A</a></td>\n",
       "                </tr>\n",
       "                <tr>\n",
       "                    <td><tt>B_s->D_s::f_++f_0@HPQCD:2019A</tt></td>\n",
       "                    <td><a onclick=\"toggle_obs(this, 'con0-obs')\">\n",
       "                <span class=\"dots\"   id=\"con0-obs\" style=\"display: inline; text-align: left\">...</span>\n",
       "                <span class=\"values\" id=\"con0-obs\" style=\"display: none;   text-align: left\">\n",
       "               <tt>B_s->D_s::f_0(q2)</tt><br/><tt>B_s->D_s::f_+(q2)</tt>\n",
       "                </span>\n",
       "            </a></td>\n",
       "                    <td>MultivariateGaussian(Covariance)</td>\n",
       "                    <td><a \"\">HPQCD:2019A</a></td>\n",
       "                </tr>\n",
       "                <tr>\n",
       "                    <td><tt>B_s->D_s^(*)::FormFactors[f_+,f_0,A_0,A_1,A_2,V,T_1,T_2,T_23]@BGJvD:2019A</tt></td>\n",
       "                    <td><a onclick=\"toggle_obs(this, 'con0-obs')\">\n",
       "                <span class=\"dots\"   id=\"con0-obs\" style=\"display: inline; text-align: left\">...</span>\n",
       "                <span class=\"values\" id=\"con0-obs\" style=\"display: none;   text-align: left\">\n",
       "               <tt>B_s->D_s^*::A_2(q2)</tt><br/><tt>B_s->D_s^*::A_1(q2)</tt><br/><tt>B_s->D_s^*::A_0(q2)</tt><br/><tt>B_s->D_s^*::T_23(q2)</tt><br/><tt>B_s->D_s^*::T_2(q2)</tt><br/><tt>B_s->D_s::f_0(q2)</tt><br/><tt>B_s->D_s::f_+(q2)</tt><br/><tt>B_s->D_s^*::T_1(q2)</tt><br/><tt>B_s->D_s^*::V(q2)</tt>\n",
       "                </span>\n",
       "            </a></td>\n",
       "                    <td>MultivariateGaussian(Covariance)</td>\n",
       "                    <td><a \"\">BGJvD:2019A</a></td>\n",
       "                </tr>\n",
       "                <tr>\n",
       "                    <td><tt>B_s->D_s^(*)::FormFactors[f_+,f_0,f_T,A_0,A_1,A_2,V,T_1,T_2,T_23]@BGJvD:2019A</tt></td>\n",
       "                    <td><a onclick=\"toggle_obs(this, 'con0-obs')\">\n",
       "                <span class=\"dots\"   id=\"con0-obs\" style=\"display: inline; text-align: left\">...</span>\n",
       "                <span class=\"values\" id=\"con0-obs\" style=\"display: none;   text-align: left\">\n",
       "               <tt>B_s->D_s^*::A_2(q2)</tt><br/><tt>B_s->D_s::f_T(q2)</tt><br/><tt>B_s->D_s^*::A_1(q2)</tt><br/><tt>B_s->D_s^*::A_0(q2)</tt><br/><tt>B_s->D_s^*::T_23(q2)</tt><br/><tt>B_s->D_s^*::T_2(q2)</tt><br/><tt>B_s->D_s::f_0(q2)</tt><br/><tt>B_s->D_s::f_+(q2)</tt><br/><tt>B_s->D_s^*::T_1(q2)</tt><br/><tt>B_s->D_s^*::V(q2)</tt>\n",
       "                </span>\n",
       "            </a></td>\n",
       "                    <td>MultivariateGaussian(Covariance)</td>\n",
       "                    <td><a \"\">BGJvD:2019A</a></td>\n",
       "                </tr>\n",
       "                <tr>\n",
       "                    <td><tt>B_s->D_s^(*)::FormFactors[parametric,LCSRLattice]@BGJvD:2019A</tt></td>\n",
       "                    <td><a onclick=\"toggle_obs(this, 'con0-obs')\">\n",
       "                <span class=\"dots\"   id=\"con0-obs\" style=\"display: inline; text-align: left\">...</span>\n",
       "                <span class=\"values\" id=\"con0-obs\" style=\"display: none;   text-align: left\">\n",
       "               <tt>B_s->D_s^*::alpha^A1_0@BSZ2015</tt><br/><tt>B_s->D_s::alpha^f+_1@BSZ2015</tt><br/><tt>B_s->D_s::alpha^f0_1@BSZ2015</tt><br/><tt>B_s->D_s^*::alpha^V_0@BSZ2015</tt><br/><tt>B_s->D_s^*::alpha^A0_2@BSZ2015</tt><br/><tt>B_s->D_s^*::alpha^A12_1@BSZ2015</tt><br/><tt>B_s->D_s^*::alpha^T2_2@BSZ2015</tt><br/><tt>B_s->D_s::alpha^fT_2@BSZ2015</tt><br/><tt>B_s->D_s::alpha^f0_2@BSZ2015</tt><br/><tt>B_s->D_s::alpha^fT_0@BSZ2015</tt><br/><tt>B_s->D_s^*::alpha^T1_0@BSZ2015</tt><br/><tt>B_s->D_s^*::alpha^T1_2@BSZ2015</tt><br/><tt>B_s->D_s^*::alpha^V_1@BSZ2015</tt><br/><tt>B_s->D_s::alpha^fT_1@BSZ2015</tt><br/><tt>B_s->D_s^*::alpha^A0_0@BSZ2015</tt><br/><tt>B_s->D_s^*::alpha^T23_2@BSZ2015</tt><br/><tt>B_s->D_s^*::alpha^A1_1@BSZ2015</tt><br/><tt>B_s->D_s^*::alpha^T23_0@BSZ2015</tt><br/><tt>B_s->D_s^*::alpha^T1_1@BSZ2015</tt><br/><tt>B_s->D_s::alpha^f+_2@BSZ2015</tt><br/><tt>B_s->D_s^*::alpha^V_2@BSZ2015</tt><br/><tt>B_s->D_s^*::alpha^A0_1@BSZ2015</tt><br/><tt>B_s->D_s::alpha^f+_0@BSZ2015</tt><br/><tt>B_s->D_s^*::alpha^T2_1@BSZ2015</tt><br/><tt>B_s->D_s^*::alpha^T23_1@BSZ2015</tt><br/><tt>B_s->D_s^*::alpha^A1_2@BSZ2015</tt><br/><tt>B_s->D_s^*::alpha^A12_2@BSZ2015</tt>\n",
       "                </span>\n",
       "            </a></td>\n",
       "                    <td>MultivariateGaussian(Covariance)</td>\n",
       "                    <td><a \"\">BGJvD:2019A</a></td>\n",
       "                </tr>\n",
       "                <tr>\n",
       "                    <td><tt>B_s->D_s^(*)::FormFactors[parametric,LCSR]@BGJvD:2019A</tt></td>\n",
       "                    <td><a onclick=\"toggle_obs(this, 'con0-obs')\">\n",
       "                <span class=\"dots\"   id=\"con0-obs\" style=\"display: inline; text-align: left\">...</span>\n",
       "                <span class=\"values\" id=\"con0-obs\" style=\"display: none;   text-align: left\">\n",
       "               <tt>B_s->D_s^*::alpha^A1_0@BSZ2015</tt><br/><tt>B_s->D_s::alpha^f+_1@BSZ2015</tt><br/><tt>B_s->D_s::alpha^f0_1@BSZ2015</tt><br/><tt>B_s->D_s^*::alpha^V_0@BSZ2015</tt><br/><tt>B_s->D_s^*::alpha^A0_2@BSZ2015</tt><br/><tt>B_s->D_s^*::alpha^A12_1@BSZ2015</tt><br/><tt>B_s->D_s^*::alpha^T2_2@BSZ2015</tt><br/><tt>B_s->D_s::alpha^fT_2@BSZ2015</tt><br/><tt>B_s->D_s::alpha^f0_2@BSZ2015</tt><br/><tt>B_s->D_s::alpha^fT_0@BSZ2015</tt><br/><tt>B_s->D_s^*::alpha^T1_0@BSZ2015</tt><br/><tt>B_s->D_s^*::alpha^T1_2@BSZ2015</tt><br/><tt>B_s->D_s^*::alpha^V_1@BSZ2015</tt><br/><tt>B_s->D_s::alpha^fT_1@BSZ2015</tt><br/><tt>B_s->D_s^*::alpha^A0_0@BSZ2015</tt><br/><tt>B_s->D_s^*::alpha^T23_2@BSZ2015</tt><br/><tt>B_s->D_s^*::alpha^A1_1@BSZ2015</tt><br/><tt>B_s->D_s^*::alpha^T23_0@BSZ2015</tt><br/><tt>B_s->D_s^*::alpha^T1_1@BSZ2015</tt><br/><tt>B_s->D_s::alpha^f+_2@BSZ2015</tt><br/><tt>B_s->D_s^*::alpha^V_2@BSZ2015</tt><br/><tt>B_s->D_s^*::alpha^A0_1@BSZ2015</tt><br/><tt>B_s->D_s::alpha^f+_0@BSZ2015</tt><br/><tt>B_s->D_s^*::alpha^T2_1@BSZ2015</tt><br/><tt>B_s->D_s^*::alpha^T23_1@BSZ2015</tt><br/><tt>B_s->D_s^*::alpha^A1_2@BSZ2015</tt><br/><tt>B_s->D_s^*::alpha^A12_2@BSZ2015</tt>\n",
       "                </span>\n",
       "            </a></td>\n",
       "                    <td>MultivariateGaussian(Covariance)</td>\n",
       "                    <td><a \"\">BGJvD:2019A</a></td>\n",
       "                </tr>\n",
       "                <tr>\n",
       "                    <td><tt>B_s->D_s^*::A_1[s_max]@HPQCD:2017A</tt></td>\n",
       "                    <td><a onclick=\"toggle_obs(this, 'con0-obs')\">\n",
       "                <span class=\"dots\"   id=\"con0-obs\" style=\"display: inline; text-align: left\">...</span>\n",
       "                <span class=\"values\" id=\"con0-obs\" style=\"display: none;   text-align: left\">\n",
       "               <tt>B_s->D_s^*::A_1(q2)</tt>\n",
       "                </span>\n",
       "            </a></td>\n",
       "                    <td>Gaussian</td>\n",
       "                    <td><a \"\">HPQCD:2017A</a></td>\n",
       "                </tr>\n",
       "                <tr>\n",
       "                    <td><tt>B_s->D_s^*::A_1[s_max]@HPQCD:2019A</tt></td>\n",
       "                    <td><a onclick=\"toggle_obs(this, 'con0-obs')\">\n",
       "                <span class=\"dots\"   id=\"con0-obs\" style=\"display: inline; text-align: left\">...</span>\n",
       "                <span class=\"values\" id=\"con0-obs\" style=\"display: none;   text-align: left\">\n",
       "               <tt>B_s->D_s^*::A_1(q2)</tt>\n",
       "                </span>\n",
       "            </a></td>\n",
       "                    <td>Gaussian</td>\n",
       "                    <td><a \"\">HPQCD:2019A</a></td>\n",
       "                </tr>\n",
       "            </table>\n",
       "        "
      ],
      "text/plain": [
       "<eos.constraint.Constraints at 0x7fc828191260>"
      ]
     },
     "execution_count": 1,
     "metadata": {},
     "output_type": "execute_result"
    }
   ],
   "source": [
    "import eos\n",
    "eos.Constraints(prefix='->D')"
   ]
  },
  {
   "cell_type": "markdown",
   "metadata": {},
   "source": [
    "## Visualizing the built-in Constraints"
   ]
  },
  {
   "cell_type": "markdown",
   "metadata": {},
   "source": [
    "For what follows we will use the two experimental constraints ``B^0->D^+e^-nu::BRs@Belle:2015A``\n",
    "and ``B^0->D^+mu^-nu::BRs@Belle:2015A``, to infer the CKM matrix element $|V_{cb}|$. We can readily\n",
    "display these two constraints, along with the default theory prediction (without any uncertainties),\n",
    "using the following code:"
   ]
  },
  {
   "cell_type": "code",
   "execution_count": 2,
   "metadata": {
    "ExecuteTime": {
     "end_time": "2021-10-21T13:15:11.112132Z",
     "start_time": "2021-10-21T13:15:08.493463Z"
    },
    "execution": {
     "iopub.execute_input": "2022-07-06T09:50:57.052763Z",
     "iopub.status.busy": "2022-07-06T09:50:57.052335Z",
     "iopub.status.idle": "2022-07-06T09:50:59.933834Z",
     "shell.execute_reply": "2022-07-06T09:50:59.933241Z"
    }
   },
   "outputs": [
    {
     "name": "stderr",
     "output_type": "stream",
     "text": [
      "INFO:EOS:   plotting EOS observable \"B->Dlnu::dBR/dq2;l=e,q=d\"\n"
     ]
    },
    {
     "data": {
      "text/plain": [
       "(<Figure size 432x288 with 1 Axes>,\n",
       " <AxesSubplot:xlabel='$q^2$\\\\,[$\\\\textnormal{GeV}^2$]', ylabel='$d\\\\mathcal{B}/dq^2$'>)"
      ]
     },
     "execution_count": 2,
     "metadata": {},
     "output_type": "execute_result"
    },
    {
     "data": {
      "image/png": "[encoded data removed]",
      "text/plain": [
       "<Figure size 432x288 with 1 Axes>"
      ]
     },
     "metadata": {
      "needs_background": "light"
     },
     "output_type": "display_data"
    }
   ],
   "source": [
    "plot_args = {\n",
    "    'plot': {\n",
    "        'x': { 'label': r'$q^2$', 'unit': r'$\\textnormal{GeV}^2$', 'range': [0.0, 11.63] },\n",
    "        'y': { 'label': r'$d\\mathcal{B}/dq^2$',                    'range': [0.0,  5e-3] },\n",
    "        'legend': { 'location': 'lower left' }\n",
    "    },\n",
    "    'contents': [\n",
    "        {\n",
    "            'label': r'$\\ell=e$',\n",
    "            'type': 'observable',\n",
    "            'observable': 'B->Dlnu::dBR/dq2;l=e,q=d',\n",
    "            'variable': 'q2',\n",
    "            'color': 'black',\n",
    "            'range': [0.02, 11.63],\n",
    "        },\n",
    "        {\n",
    "            'label': r'Belle 2015 $\\ell=e,\\, q=d$',\n",
    "            'type': 'constraint',\n",
    "            'color': 'C0',\n",
    "            'constraints': 'B^0->D^+e^-nu::BRs@Belle:2015A',\n",
    "            'observable': 'B->Dlnu::BR',\n",
    "            'variable': 'q2',\n",
    "            'rescale-by-width': True\n",
    "        },\n",
    "        {\n",
    "            'label': r'Belle 2015 $\\ell=\\mu,\\,q=d$',\n",
    "            'type': 'constraint',\n",
    "            'color': 'C1',\n",
    "            'constraints': 'B^0->D^+mu^-nu::BRs@Belle:2015A',\n",
    "            'observable': 'B->Dlnu::BR',\n",
    "            'variable': 'q2',\n",
    "            'rescale-by-width': True\n",
    "        },\n",
    "    ]\n",
    "}\n",
    "eos.plot.Plotter(plot_args).plot()"
   ]
  },
  {
   "cell_type": "markdown",
   "metadata": {},
   "source": [
    "## Defining the Statistical Analysis"
   ]
  },
  {
   "cell_type": "markdown",
   "metadata": {},
   "source": [
    "To define our statistical analysis for the inference of $|V_{cb}|$ from measurements\n",
    "of the $\\bar{B}\\to D\\ell^-\\bar\\nu$ branching ratios, some decisions are needed.\n",
    "First, we must decide how to parametrize the hadronic form factors that emerge\n",
    "in semileptonic $\\bar{B}\\to D$ transitions.\n",
    "For what follows we will use the [BSZ:2015A] parametrization.\n",
    "Next, we must decide the theory input for the form factors. For what follows we will combine the correlated lattice QCD results published by the Fermilab/MILC and HPQCD collaborations in 2015.\n",
    "\n",
    "We then create an [eos.Analysis](api/python.rst#eos.Analysis) object as follows:"
   ]
  },
  {
   "cell_type": "code",
   "execution_count": 3,
   "metadata": {
    "ExecuteTime": {
     "end_time": "2021-10-21T13:15:11.719803Z",
     "start_time": "2021-10-21T13:15:11.115258Z"
    },
    "execution": {
     "iopub.execute_input": "2022-07-06T09:50:59.936942Z",
     "iopub.status.busy": "2022-07-06T09:50:59.936588Z",
     "iopub.status.idle": "2022-07-06T09:51:00.187335Z",
     "shell.execute_reply": "2022-07-06T09:51:00.186766Z"
    },
    "scrolled": true
   },
   "outputs": [
    {
     "name": "stderr",
     "output_type": "stream",
     "text": [
      "INFO:EOS:Creating analysis with 6 priors, 4 EOS-wide constraints, 2 global options, 0 manually-entered constraints and 0 fixed parameters.\n"
     ]
    },
    {
     "name": "stderr",
     "output_type": "stream",
     "text": [
      "INFO:EOS:likelihood probably depends on 48 parameter(s) that do not appear in the prior; check prior?\n"
     ]
    }
   ],
   "source": [
    "analysis_args = {\n",
    "    'global_options': { 'form-factors': 'BSZ2015', 'model': 'CKM' },\n",
    "    'priors': [\n",
    "        { 'parameter': 'CKM::abs(V_cb)',           'min':  38e-3, 'max':  45e-3 , 'type': 'uniform'},\n",
    "        { 'parameter': 'B->D::alpha^f+_0@BSZ2015', 'min':  0.0,   'max':  1.0   , 'type': 'uniform'},\n",
    "        { 'parameter': 'B->D::alpha^f+_1@BSZ2015', 'min': -4.0,   'max': -1.0   , 'type': 'uniform'},\n",
    "        { 'parameter': 'B->D::alpha^f+_2@BSZ2015', 'min': +4.0,   'max': +6.0   , 'type': 'uniform'},\n",
    "        { 'parameter': 'B->D::alpha^f0_1@BSZ2015', 'min': -1.0,   'max': +2.0   , 'type': 'uniform'},\n",
    "        { 'parameter': 'B->D::alpha^f0_2@BSZ2015', 'min': -2.0,   'max':  0.0   , 'type': 'uniform'}\n",
    "    ],\n",
    "    'likelihood': [\n",
    "        'B->D::f_++f_0@HPQCD:2015A',\n",
    "        'B->D::f_++f_0@FNAL+MILC:2015B',\n",
    "        'B^0->D^+e^-nu::BRs@Belle:2015A',\n",
    "        'B^0->D^+mu^-nu::BRs@Belle:2015A'\n",
    "    ]\n",
    "}\n",
    "analysis = eos.Analysis(**analysis_args)\n",
    "analysis.parameters['CKM::abs(V_cb)'].set(42.0e-3)"
   ]
  },
  {
   "cell_type": "markdown",
   "metadata": {},
   "source": [
    "In the above, the global options ensure that our choice of form factor parametrization is used throughout,\n",
    "and that for CKM matrix elements the `CKM` model is used. The latter provides parametric access to the\n",
    "$V_{cb}$ matrix element through two parameters:\n",
    "the absolute value ``CKM::abs(V_cb)`` and the complex phase ``CKM::arg(V_cb)``.\n",
    "The latter is not accessible from $b\\to c\\ell\\bar\\nu$.\n",
    "We provide the parameters in our analysis through the specifications of the Bayesian priors.\n",
    "In the above, each prior is a uniform prior that covers the range from ``min`` to ``max``.\n",
    "The likelihood is defined through a list constraints, which in the above includes both the experimental measurements by the Belle collaboration as well as the theoretical lattice QCD results.\n",
    "Finally, we set the starting value of ``CKM::abs(V_cb)`` to a sensible value of $42\\cdot 10^{-3}$."
   ]
  },
  {
   "cell_type": "markdown",
   "metadata": {},
   "source": [
    "We can now proceed to optimize the log(posterior) through a call to [analysis.optimize](api/python.rst#eos.Analysis.optimize).\n",
    "In a Jupyter notebook, it is useful to display the return value of this method, which illustrates the best-fit point.\n",
    "We can further display a summary of fit quality using the [analysis.goodness_of_fit](api/python.rst#eos.Analysis.goodness_of_fit) method."
   ]
  },
  {
   "cell_type": "code",
   "execution_count": 4,
   "metadata": {
    "ExecuteTime": {
     "end_time": "2021-10-21T13:15:12.063058Z",
     "start_time": "2021-10-21T13:15:11.724539Z"
    },
    "execution": {
     "iopub.execute_input": "2022-07-06T09:51:00.190420Z",
     "iopub.status.busy": "2022-07-06T09:51:00.189888Z",
     "iopub.status.idle": "2022-07-06T09:51:00.296991Z",
     "shell.execute_reply": "2022-07-06T09:51:00.296453Z"
    },
    "scrolled": true
   },
   "outputs": [
    {
     "name": "stderr",
     "output_type": "stream",
     "text": [
      "INFO:EOS:Optimization goal achieved after 139 function evaluations\n"
     ]
    },
    {
     "data": {
      "text/html": [
       "<table>\n",
       "<tr><th>parameter</th><th>value</th></tr>\n",
       "<tr><td>$|V_{cb}|$</td><td>0.0419</td></tr><tr><td>$\\alpha_{+,0}^{B \\to D,\\mathrm{BSZ2015}}$</td><td>0.6668</td></tr><tr><td>$\\alpha_{+,1}^{B \\to D,\\mathrm{BSZ2015}}$</td><td>-2.5421</td></tr><tr><td>$\\alpha_{+,2}^{B \\to D,\\mathrm{BSZ2015}}$</td><td>4.7866</td></tr><tr><td>$\\alpha_{0,1}^{B \\to D,\\mathrm{BSZ2015}}$</td><td>0.2560</td></tr><tr><td>$\\alpha_{0,2}^{B \\to D,\\mathrm{BSZ2015}}$</td><td>-0.9289</td></tr></table>"
      ],
      "text/plain": [
       "<eos.analysis.BestFitPoint at 0x7fc7e888c1f0>"
      ]
     },
     "metadata": {},
     "output_type": "display_data"
    },
    {
     "data": {
      "text/html": [
       "<table>\n",
       "<tr><th>constraint</th><th>&chi;<sup>2</sup></th><th>d.o.f.</th><th>local p-value</th></tr>\n",
       "<tr><td><tt>B->D::f_++f_0@FNAL+MILC:2015B</tt></td><td>3.5110</td><td>7</td><td>83.4057%</td></tr>\n",
       "<tr><td><tt>B->D::f_++f_0@HPQCD:2015A</tt></td><td>3.0279</td><td>5</td><td>69.5689%</td></tr>\n",
       "<tr><td><tt>B^0->D^+e^-nu::BRs@Belle:2015A</tt></td><td>11.8514</td><td>10</td><td>29.5126%</td></tr>\n",
       "<tr><td><tt>B^0->D^+mu^-nu::BRs@Belle:2015A</tt></td><td>5.2417</td><td>10</td><td>87.4455%</td></tr>\n",
       "</table><br/>\n",
       "<table>\n",
       "<tr><th>total &chi;<sup>2</sup></th><td>23.6320</td></tr>\n",
       "<tr><th>total degrees of freedom</th><td>26</td></tr>\n",
       "<tr><th>p-value</th><td>59.6998%</td></tr>\n",
       "</table>\n"
      ],
      "text/plain": [
       "<_eos.GoodnessOfFit at 0x7fc8281932e0>"
      ]
     },
     "metadata": {},
     "output_type": "display_data"
    }
   ],
   "source": [
    "bfp = analysis.optimize()\n",
    "display(bfp)\n",
    "display(analysis.goodness_of_fit())"
   ]
  },
  {
   "cell_type": "markdown",
   "metadata": {},
   "source": [
    "## Sampling from the Posterior"
   ]
  },
  {
   "cell_type": "markdown",
   "metadata": {},
   "source": [
    "To sample from the posterior, EOS provides the [analysis.sample](api/python.rst#eos.Analysis.sample) method.\n",
    "Optionally, this can also produce posterior-predictive samples for a list of observables.\n",
    "We can use these samples to illustrate the results of our fit in comparison to the\n",
    "experimental constraints.\n",
    "\n",
    "For this example, we produce such posterior-predictive samples for the differential\n",
    "$\\bar{B}\\to D^+e^-\\bar\\nu$ branching ratio in 40 points in the kinematical variable\n",
    "$q^2$; the square of the momentum transfer to the $e^-\\bar\\nu$ pair.\n",
    "Due to the strong dependence of the branching ratio on $q^2$, we do not distribute the\n",
    "points equally across the full phase space. Instead, we equally distribute half of\n",
    "the points in the interval $[0.02\\,\\text{GeV}^2, 1.00\\,\\text{GeV}^2]$ and the other\n",
    "half in the remainder of the phase space.\n",
    "\n",
    "We produce ``N`` $= 20000$ samples with a thinning factor (or ``stride``) of $5$. This means\n",
    "that ``stride * N`` $= 100000$ samples are produced, but only every $5$th sample is returned.\n",
    "This improves the quality of the samples by reducing the autocorrelation.\n",
    "Before the samples are produced, the Markov Chain self-adapts in a series of preruns,\n",
    "the number of which is governed by the ``preprun`` argument. In each prerun, ``pre_N``\n",
    "samples are drawn before the adaptation step. The samples obtained as part of the\n",
    "preruns are discarded. To ensure efficient sampling, the chain is started in the\n",
    "best-fit point obtained earlier through optimization."
   ]
  },
  {
   "cell_type": "code",
   "execution_count": 5,
   "metadata": {
    "ExecuteTime": {
     "end_time": "2021-10-21T13:15:48.760963Z",
     "start_time": "2021-10-21T13:15:12.065321Z"
    },
    "execution": {
     "iopub.execute_input": "2022-07-06T09:51:00.300166Z",
     "iopub.status.busy": "2022-07-06T09:51:00.299845Z",
     "iopub.status.idle": "2022-07-06T09:51:48.120180Z",
     "shell.execute_reply": "2022-07-06T09:51:48.119573Z"
    },
    "scrolled": true
   },
   "outputs": [
    {
     "name": "stderr",
     "output_type": "stream",
     "text": [
      "INFO:EOS:Prerun 0 out of 5\n"
     ]
    },
    {
     "name": "stderr",
     "output_type": "stream",
     "text": [
      "INFO:EOS:Prerun 0: acceptance rate is   1%\n"
     ]
    },
    {
     "name": "stderr",
     "output_type": "stream",
     "text": [
      "INFO:EOS:Prerun 1 out of 5\n"
     ]
    },
    {
     "name": "stderr",
     "output_type": "stream",
     "text": [
      "INFO:EOS:Prerun 1: acceptance rate is  42%\n"
     ]
    },
    {
     "name": "stderr",
     "output_type": "stream",
     "text": [
      "INFO:EOS:Prerun 2 out of 5\n"
     ]
    },
    {
     "name": "stderr",
     "output_type": "stream",
     "text": [
      "INFO:EOS:Prerun 2: acceptance rate is  25%\n"
     ]
    },
    {
     "name": "stderr",
     "output_type": "stream",
     "text": [
      "INFO:EOS:Prerun 3 out of 5\n"
     ]
    },
    {
     "name": "stderr",
     "output_type": "stream",
     "text": [
      "INFO:EOS:Prerun 3: acceptance rate is  27%\n"
     ]
    },
    {
     "name": "stderr",
     "output_type": "stream",
     "text": [
      "INFO:EOS:Prerun 4 out of 5\n"
     ]
    },
    {
     "name": "stderr",
     "output_type": "stream",
     "text": [
      "INFO:EOS:Prerun 4: acceptance rate is  24%\n"
     ]
    },
    {
     "name": "stderr",
     "output_type": "stream",
     "text": [
      "INFO:EOS:Main run: started ...\n"
     ]
    },
    {
     "name": "stderr",
     "output_type": "stream",
     "text": [
      "INFO:EOS:Main run: acceptance rate is  25%\n"
     ]
    }
   ],
   "source": [
    "import numpy as np\n",
    "e_q2values  = np.unique(np.concatenate((np.linspace(0.02,  1.00, 20), np.linspace(1.00, 11.60, 20))))\n",
    "e_obs       = [eos.Observable.make(\n",
    "                  'B->Dlnu::dBR/dq2', analysis.parameters, eos.Kinematics(q2=q2),\n",
    "                  eos.Options({'form-factors': 'BSZ2015', 'l': 'e', 'q': 'd'}))\n",
    "              for q2 in e_q2values]\n",
    "parameter_samples, log_posterior, e_samples  = analysis.sample(N=20000, stride=5, pre_N=3000, preruns=5, start_point=bfp.point, observables=e_obs)"
   ]
  },
  {
   "cell_type": "markdown",
   "metadata": {},
   "source": [
    "The values of the log(posterior) are stored in ``log_posterior``.\n",
    "The posterior-preditive samples for the observables are stored in ``e_samples``, and are only returned if the ``observables`` keyword argument is provided."
   ]
  },
  {
   "cell_type": "markdown",
   "metadata": {},
   "source": [
    "We can plot our result using the `uncertainty` plot type. It expects a `data` item that contains the samples as well as the x-axis values used in the production of the samples. This plot type will interpolate between neighboring x-axis values, and display the $68\\%$ probability envelope along the median curve."
   ]
  },
  {
   "cell_type": "code",
   "execution_count": 6,
   "metadata": {
    "ExecuteTime": {
     "end_time": "2021-10-21T13:15:49.386855Z",
     "start_time": "2021-10-21T13:15:48.763409Z"
    },
    "execution": {
     "iopub.execute_input": "2022-07-06T09:51:48.124166Z",
     "iopub.status.busy": "2022-07-06T09:51:48.123665Z",
     "iopub.status.idle": "2022-07-06T09:51:48.497272Z",
     "shell.execute_reply": "2022-07-06T09:51:48.496699Z"
    }
   },
   "outputs": [
    {
     "data": {
      "text/plain": [
       "(<Figure size 432x288 with 1 Axes>,\n",
       " <AxesSubplot:xlabel='$q^2$\\\\,[$\\\\textnormal{GeV}^2$]', ylabel='$d\\\\mathcal{B}/dq^2$'>)"
      ]
     },
     "execution_count": 6,
     "metadata": {},
     "output_type": "execute_result"
    },
    {
     "data": {
      "image/png": "[encoded data removed]",
      "text/plain": [
       "<Figure size 432x288 with 1 Axes>"
      ]
     },
     "metadata": {
      "needs_background": "light"
     },
     "output_type": "display_data"
    }
   ],
   "source": [
    "plot_args = {\n",
    "    'plot': {\n",
    "        'x': { 'label': r'$q^2$', 'unit': r'$\\textnormal{GeV}^2$', 'range': [0.0, 11.63] },\n",
    "        'y': { 'label': r'$d\\mathcal{B}/dq^2$',                    'range': [0.0,  5e-3] },\n",
    "        'legend': { 'location': 'lower left' }\n",
    "    },\n",
    "    'contents': [\n",
    "        {\n",
    "          'label': r'$\\ell=\\mu$', 'type': 'uncertainty', 'range': [0.02, 11.60],\n",
    "          'data': { 'samples': e_samples, 'xvalues': e_q2values }\n",
    "        },\n",
    "        {\n",
    "            'label': r'Belle 2015 $\\ell=e,\\, q=d$',\n",
    "            'type': 'constraint',\n",
    "            'color': 'C0',\n",
    "            'constraints': 'B^0->D^+e^-nu::BRs@Belle:2015A',\n",
    "            'observable': 'B->Dlnu::BR',\n",
    "            'variable': 'q2',\n",
    "            'rescale-by-width': True\n",
    "        },\n",
    "        {\n",
    "            'label': r'Belle 2015 $\\ell=\\mu,\\,q=d$',\n",
    "            'type': 'constraint',\n",
    "            'color': 'C1',\n",
    "            'constraints': 'B^0->D^+mu^-nu::BRs@Belle:2015A',\n",
    "            'observable': 'B->Dlnu::BR',\n",
    "            'variable': 'q2',\n",
    "            'rescale-by-width': True\n",
    "        },\n",
    "    ]\n",
    "}\n",
    "eos.plot.Plotter(plot_args).plot()"
   ]
  },
  {
   "cell_type": "markdown",
   "metadata": {},
   "source": [
    "The distribution of the parameter samples, here using $|V_{cb}|$ as an example, can be inspected using regular histograms or a smooth histogram based on a kernel density estimate (KDE). For the latter, the parameter ``bandwidth`` regulates the smoothing. EOS applies a relative bandwidth factor with respect to SciPy's best bandwidth estimate, i.e., specifying `'bandwidth': 2` double SciPy's estimate for the bandwidth."
   ]
  },
  {
   "cell_type": "code",
   "execution_count": 7,
   "metadata": {
    "ExecuteTime": {
     "end_time": "2021-10-21T13:15:50.558814Z",
     "start_time": "2021-10-21T13:15:49.390176Z"
    },
    "execution": {
     "iopub.execute_input": "2022-07-06T09:51:48.500534Z",
     "iopub.status.busy": "2022-07-06T09:51:48.500166Z",
     "iopub.status.idle": "2022-07-06T09:51:50.459136Z",
     "shell.execute_reply": "2022-07-06T09:51:50.458570Z"
    }
   },
   "outputs": [
    {
     "data": {
      "text/plain": [
       "(<Figure size 432x288 with 1 Axes>, <AxesSubplot:xlabel='$|V_{cb}|$'>)"
      ]
     },
     "execution_count": 7,
     "metadata": {},
     "output_type": "execute_result"
    },
    {
     "data": {
      "image/png": "[encoded data removed]",
      "text/plain": [
       "<Figure size 432x288 with 1 Axes>"
      ]
     },
     "metadata": {
      "needs_background": "light"
     },
     "output_type": "display_data"
    }
   ],
   "source": [
    "plot_args = {\n",
    "    'plot': {\n",
    "        'x': { 'label': r'$|V_{cb}|$', 'range': [38e-3, 47e-3] },\n",
    "        'legend': { 'location': 'upper left' }\n",
    "    },\n",
    "    'contents': [\n",
    "        {\n",
    "            'type': 'histogram',\n",
    "            'data': { 'samples': parameter_samples[:, 0] }\n",
    "        },\n",
    "        {\n",
    "            'type': 'kde', 'color': 'C0', 'label': 'posterior', 'bandwidth': 2,\n",
    "            'range': [40e-3, 45e-3],\n",
    "            'data': { 'samples': parameter_samples[:, 0] }\n",
    "        }\n",
    "    ]\n",
    "}\n",
    "eos.plot.Plotter(plot_args).plot()"
   ]
  },
  {
   "cell_type": "markdown",
   "metadata": {},
   "source": [
    "We can also illustrate the correlation between $|V_{cb}|$ and any form factor parameter. Her, we use the normalization of the form factors at $q^2 = 0$ as an example. Contours of equal probability at the $68\\%$\n",
    "and $95\\%$ levels can be generated using a KDE as follows:"
   ]
  },
  {
   "cell_type": "code",
   "execution_count": 8,
   "metadata": {
    "ExecuteTime": {
     "end_time": "2021-10-21T13:15:57.815362Z",
     "start_time": "2021-10-21T13:15:50.565073Z"
    },
    "execution": {
     "iopub.execute_input": "2022-07-06T09:51:50.462140Z",
     "iopub.status.busy": "2022-07-06T09:51:50.461730Z",
     "iopub.status.idle": "2022-07-06T09:51:53.894205Z",
     "shell.execute_reply": "2022-07-06T09:51:53.893287Z"
    },
    "scrolled": true
   },
   "outputs": [
    {
     "data": {
      "text/plain": [
       "(<Figure size 432x288 with 1 Axes>,\n",
       " <AxesSubplot:xlabel='$|V_{cb}|$', ylabel='$f_+(0)$'>)"
      ]
     },
     "execution_count": 8,
     "metadata": {},
     "output_type": "execute_result"
    },
    {
     "data": {
      "image/png": "[encoded data removed]",
      "text/plain": [
       "<Figure size 432x288 with 1 Axes>"
      ]
     },
     "metadata": {
      "needs_background": "light"
     },
     "output_type": "display_data"
    }
   ],
   "source": [
    "plot_args = {\n",
    "    'plot': {\n",
    "        'x': { 'label': r'$|V_{cb}|$', 'range': [38e-3, 47e-3] },\n",
    "        'y': { 'label': r'$f_+(0)$',   'range': [0.6, 0.75] },\n",
    "    },\n",
    "    'contents': [\n",
    "        {\n",
    "            'type': 'kde2D', 'color': 'C1', 'label': 'posterior',\n",
    "            'levels': [68, 95], 'contours': ['lines','areas'], 'bandwidth':3,\n",
    "            'data': { 'samples': parameter_samples[:, (0,1)] }\n",
    "        }\n",
    "    ]\n",
    "}\n",
    "eos.plot.Plotter(plot_args).plot()"
   ]
  },
  {
   "cell_type": "markdown",
   "metadata": {},
   "source": [
    "Here the `bandwidth` parameter takes the same role as in the 1D histogram."
   ]
  },
  {
   "cell_type": "markdown",
   "metadata": {},
   "source": [
    "We can compute the mean value and its standard deviation using ``numpy`` methods"
   ]
  },
  {
   "cell_type": "code",
   "execution_count": 9,
   "metadata": {
    "ExecuteTime": {
     "end_time": "2021-10-21T13:15:57.827270Z",
     "start_time": "2021-10-21T13:15:57.818620Z"
    },
    "execution": {
     "iopub.execute_input": "2022-07-06T09:51:53.897331Z",
     "iopub.status.busy": "2022-07-06T09:51:53.896920Z",
     "iopub.status.idle": "2022-07-06T09:51:53.902315Z",
     "shell.execute_reply": "2022-07-06T09:51:53.901785Z"
    }
   },
   "outputs": [
    {
     "name": "stdout",
     "output_type": "stream",
     "text": [
      "$|V_{cb}|$ = 0.0420 +/- 0.0009\n"
     ]
    }
   ],
   "source": [
    "print('$|V_{{cb}}|$ = {mean:.4f} +/- {std:.4f}'.format(\n",
    "    mean=np.average(parameter_samples[:,0]),\n",
    "    std=np.std(parameter_samples[:, 0])\n",
    "))"
   ]
  }
 ],
 "metadata": {
  "kernelspec": {
   "display_name": "Python 3",
   "language": "python",
   "name": "python3"
  },
  "language_info": {
   "codemirror_mode": {
    "name": "ipython",
    "version": 3
   },
   "file_extension": ".py",
   "mimetype": "text/x-python",
   "name": "python",
   "nbconvert_exporter": "python",
   "pygments_lexer": "ipython3",
   "version": "3.10.4"
  },
  "toc": {
   "base_numbering": 1,
   "nav_menu": {},
   "number_sections": true,
   "sideBar": true,
   "skip_h1_title": false,
   "title_cell": "Table of Contents",
   "title_sidebar": "Contents",
   "toc_cell": false,
   "toc_position": {},
   "toc_section_display": true,
   "toc_window_display": false
  }
 },
 "nbformat": 4,
 "nbformat_minor": 2
}
