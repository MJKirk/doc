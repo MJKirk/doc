{
 "cells": [
  {
   "attachments": {},
   "cell_type": "markdown",
   "metadata": {},
   "source": [
    "# Analysis Organisation"
   ]
  },
  {
   "attachments": {},
   "cell_type": "markdown",
   "metadata": {},
   "source": [
    "After the examples discussing observable prediction and parameter inference, the examples in this notebook illustrate how to organise your analysis or analyses. This notebook relies on a companion file named `b-to-u-l-nu.yaml`, which fully describes a number of individual priors and likelihoods. These objects serve as the building blocks to construct individual posteriors, which are then available for the overall analysis."
   ]
  },
  {
   "attachments": {},
   "cell_type": "markdown",
   "metadata": {},
   "source": [
    "## Defining the Building Blocks"
   ]
  },
  {
   "attachments": {},
   "cell_type": "markdown",
   "metadata": {},
   "source": [
    "In the following, the analysis file is loaded from the filesystem and accessible as the object `af`."
   ]
  },
  {
   "cell_type": "code",
   "execution_count": 9,
   "metadata": {},
   "outputs": [
    {
     "data": {
      "text/html": [
       "\n",
       "        <table>\n",
       "            <colgroup>\n",
       "                <col width=\"100%\" id=\"posterior\"    style=\"min-width: 200px\">\n",
       "            </colgroup>\n",
       "            <thead>\n",
       "                <tr>\n",
       "                    <th style=\"text-align: center\">priors</th>\n",
       "                </tr>\n",
       "            </thead>\n",
       "            <tbody>\n",
       "        \n",
       "                <tr>\n",
       "                    <td style=\"text-align: left\">CKM</td>\n",
       "                </tr>\n",
       "            \n",
       "                <tr>\n",
       "                    <td style=\"text-align: left\">FF-pi</td>\n",
       "                </tr>\n",
       "            \n",
       "            </tbody>\n",
       "            <thead>\n",
       "                <tr>\n",
       "                    <th style=\"text-align: center\">likelihoods</th>\n",
       "                </tr>\n",
       "            </thead>\n",
       "            <tbody>\n",
       "        \n",
       "                <tr>\n",
       "                    <td style=\"text-align: left\">TH-pi</td>\n",
       "                </tr>\n",
       "            \n",
       "                <tr>\n",
       "                    <td style=\"text-align: left\">EXP-pi</td>\n",
       "                </tr>\n",
       "            \n",
       "            </tbody>\n",
       "            <thead>\n",
       "                <tr>\n",
       "                    <th style=\"text-align: center\">posteriors</th>\n",
       "                </tr>\n",
       "            </thead>\n",
       "            <tbody>\n",
       "        \n",
       "                <tr>\n",
       "                    <td style=\"text-align: left\">CKM-pi</td>\n",
       "                </tr>\n",
       "            \n",
       "            </tbody>\n",
       "        </table>\n",
       "        "
      ],
      "text/plain": [
       "<eos.analysis_file.AnalysisFile at 0x7f305afc9a30>"
      ]
     },
     "metadata": {},
     "output_type": "display_data"
    }
   ],
   "source": [
    "import eos\n",
    "af = eos.AnalysisFile('./b-to-u-l-nu.yaml')\n",
    "display(af)"
   ]
  },
  {
   "attachments": {},
   "cell_type": "markdown",
   "metadata": {},
   "source": [
    "The analysis file defines one posterior `CKM-pi` and a few priors and likelihoods, which are used to define the two posteriors. The file format is YAML, and analysis files can be written using the text editor of one's choice."
   ]
  },
  {
   "attachments": {},
   "cell_type": "markdown",
   "metadata": {},
   "source": [
    "### Defining a Prior"
   ]
  },
  {
   "attachments": {},
   "cell_type": "markdown",
   "metadata": {},
   "source": [
    "All priors are contained within a list associated with the top-level key `priors`. In the example, the `FF-pi` prior is defined as follows:\n",
    "```\n",
    "  - name: FF-pi\n",
    "    parameters:\n",
    "      - { 'parameter':  'B->pi::f_+(0)@BCL2008' , 'min':   0.21 , 'max':   0.32 , 'type': 'uniform' }\n",
    "      - { 'parameter':  'B->pi::b_+^1@BCL2008'  , 'min':  -2.96 , 'max':  -0.60 , 'type': 'uniform' }\n",
    "      - { 'parameter':  'B->pi::b_+^2@BCL2008'  , 'min':  -3.98 , 'max':   4.38 , 'type': 'uniform' }\n",
    "      - { 'parameter':  'B->pi::b_+^3@BCL2008'  , 'min': -18.30 , 'max':   9.27 , 'type': 'uniform' }\n",
    "      - { 'parameter':  'B->pi::b_0^1@BCL2008'  , 'min':  -0.10 , 'max':   1.35 , 'type': 'uniform' }\n",
    "      - { 'parameter':  'B->pi::b_0^2@BCL2008'  , 'min':  -2.08 , 'max':   4.65 , 'type': 'uniform' }\n",
    "      - { 'parameter':  'B->pi::b_0^3@BCL2008'  , 'min':  -4.73 , 'max':   9.07 , 'type': 'uniform' }\n",
    "      - { 'parameter':  'B->pi::b_0^4@BCL2008'  , 'min': -60.00 , 'max':  38.00 , 'type': 'uniform' }\n",
    "      - { 'parameter':  'B->pi::f_T(0)@BCL2008' , 'min':   0.18 , 'max':   0.32 , 'type': 'uniform' }\n",
    "      - { 'parameter':  'B->pi::b_T^1@BCL2008'  , 'min':  -3.91 , 'max':  -0.33 , 'type': 'uniform' }\n",
    "      - { 'parameter':  'B->pi::b_T^2@BCL2008'  , 'min':  -4.32 , 'max':   2.00 , 'type': 'uniform' }\n",
    "      - { 'parameter':  'B->pi::b_T^3@BCL2008'  , 'min':  -7.39 , 'max':  10.60 , 'type': 'uniform' }\n",
    "```\n",
    "The definition associates a list of all parameters varied as part of this prior with the key `parameters`. Each element of the list is a dictionary representing a single parameter. It provides the parameter's full name as `parameter`, lists the `min`/`max` interval, and specifies the `type` of prior distribution.\n",
    "This format reflects the expectations of the `prior` keyword argument of `eos.Analysis`."
   ]
  },
  {
   "attachments": {},
   "cell_type": "markdown",
   "metadata": {},
   "source": [
    "### Defining a Likelihood"
   ]
  },
  {
   "attachments": {},
   "cell_type": "markdown",
   "metadata": {},
   "source": [
    "All likelihoods are contained within a list associated with the top-level key `likelihoods`. By convention, theoretical and experimental likelihoods are defined separately from each other and their names are prefixed with `TH-` and `EXP-`, respectively. In the example file, the `TH-pi` likelihoods is defined as follows:\n",
    "```\n",
    "  - name: TH-pi\n",
    "    constraints:\n",
    "      - 'B->pi::form-factors[f_+,f_0,f_T]@LMvD:2021A;form-factors=BCL2008-4'\n",
    "      - 'B->pi::f_++f_0+f_T@FNAL+MILC:2015C;form-factors=BCL2008-4'\n",
    "      - 'B->pi::f_++f_0@RBC+UKQCD:2015A;form-factors=BCL2008-4'\n",
    "```\n",
    " The definition associates a list of constraints with the key `constraints`. Each element of the list is a string referring to one of the built-in `EOS` constraints. This format reflects the expectations of the `constraints` keyword argument of `eos.Analysis`."
   ]
  },
  {
   "attachments": {},
   "cell_type": "markdown",
   "metadata": {},
   "source": [
    "### Defining a Posterior"
   ]
  },
  {
   "attachments": {},
   "cell_type": "markdown",
   "metadata": {},
   "source": [
    "Finally, we define a posterior based on predefined likelihoods and priors within a list associated wiht the the top-level key `posteriors` as\n",
    "```\n",
    "- name: CKM-pi\n",
    "    global_options:\n",
    "      l: e\n",
    "      model: CKM\n",
    "    prior:\n",
    "      - CKM\n",
    "      - FF-pi\n",
    "    likelihood:\n",
    "      - TH-pi\n",
    "      - EXP-pi\n",
    "```\n",
    "The specification of global options ensures that we use the `CKM model` for CKM matrix elements and that we focus on electrons in our final state."
   ]
  },
  {
   "attachments": {},
   "cell_type": "markdown",
   "metadata": {},
   "source": [
    "## Running Frequent Tasks"
   ]
  },
  {
   "attachments": {},
   "cell_type": "markdown",
   "metadata": {},
   "source": [
    "Most analyses that use `EOS` follow a pattern:\n",
    "  1. Define the priors, likelihoods, and posteriors.\n",
    "  2. Sample from the posteriors.\n",
    "  3. Inspect the posterior distributions for the analysis' parameters and plot them.\n",
    "  4. Produce posterior-predictive distributions, e.g., for observables that have not yet been measured or that can not yet be used as part of a likelihood.\n",
    "\n",
    "To faciliate running such analyses, `EOS` provides a number of repeated tasks within the `eos.tasks` module.\n",
    "All tasks follow a simple pattern: they are functions that expect an `eos.AnalysisFile` (or its name) as their first argument, and at least one posterior as their second argument. Tasks can be run from within a Jupyter notebook or using the `eos-analysis` command-line program. Tasks store intermediate and final results within a hierarchy of directories. It is recommended to provide `EOS` with a base directory in which these data are stored. The command-line program inspects the `EOS_BASE_DIRECTORY` environment variable for this purpose."
   ]
  },
  {
   "cell_type": "code",
   "execution_count": 2,
   "metadata": {},
   "outputs": [],
   "source": [
    "BASE_DIRECTORY='./'"
   ]
  },
  {
   "attachments": {},
   "cell_type": "markdown",
   "metadata": {},
   "source": [
    "### Sampling from a Posterior"
   ]
  },
  {
   "attachments": {},
   "cell_type": "markdown",
   "metadata": {},
   "source": [
    "Markov Chain Monte Carlo (MCMC), as discussed in the previous examples, provides reasonable access to posterior samples for many low-dimensional parameter spaces. However, for high-dimensional parameter space or in the presence of multiple (local) modes of the posterior, other methods perform better.\n",
    "`EOS` provides the `sample_nested` tasks, which uses the `dynesty` software to sample the posterior and compute its evidence using dynamic nested sampling.\n",
    "\n",
    "Inputs to this sampling algorithm are\n",
    "  - `nlive`: the number of live points;\n",
    "  - `dlogz`: the maximal value for the remaining evidence;\n",
    "  - `maxiter`: the maximal number of iterations; and\n",
    "  - `bound`: the method to generate new live points.\n",
    "\n",
    "For detailed information, see the `EOS` API and the `dynesty` documentation.\n",
    "\n",
    "The task is then run as follows:"
   ]
  },
  {
   "cell_type": "code",
   "execution_count": 11,
   "metadata": {},
   "outputs": [
    {
     "data": {
      "application/vnd.jupyter.widget-view+json": {
       "model_id": "1437d981f6b84fe8801a327ce5b591e6",
       "version_major": 2,
       "version_minor": 0
      },
      "text/plain": [
       "Accordion(children=(Output(layout=Layout(height='200px', overflow='auto')),), titles=('CKM-pi/nested',))"
      ]
     },
     "metadata": {},
     "output_type": "display_data"
    }
   ],
   "source": [
    "eos.tasks.sample_nested(af, 'CKM-pi', base_directory=BASE_DIRECTORY, bound='multi', nlive=100, dlogz=9.0, maxiter=3000)"
   ]
  },
  {
   "attachments": {},
   "cell_type": "markdown",
   "metadata": {},
   "source": [
    "Note that the above command uses an unreasonably large value for `dlogz` (9.0) and small values for `maxiter` (3000), which is only done for the sake of this example.\n",
    "In practice, you should use a smaller value for `dlogz` at about 1% of the log-evidence. For `maxiter`, you should use a value that is large enough to ensure that the sampler has converged.\n",
    "Ideally, no value for `maxiter` should be required."
   ]
  },
  {
   "attachments": {},
   "cell_type": "markdown",
   "metadata": {},
   "source": [
    "We can access our results using the `eos.data` module"
   ]
  },
  {
   "cell_type": "code",
   "execution_count": null,
   "metadata": {},
   "outputs": [],
   "source": [
    "path = os.path.join(base_directory, 'CKM-all', 'dynesty_results')\n",
    "ns_results = eos.data.DynestyResults(path)"
   ]
  },
  {
   "cell_type": "code",
   "execution_count": null,
   "metadata": {},
   "outputs": [],
   "source": [
    "# Obtain dynesty results object\n",
    "dyn_results = ns_results.results\n",
    "# this can be used, for example, for a quick summary\n",
    "dyn_results.summary()"
   ]
  },
  {
   "attachments": {},
   "cell_type": "markdown",
   "metadata": {},
   "source": [
    "Finally, we can visualize our results using the `corner_plot` task:"
   ]
  },
  {
   "cell_type": "code",
   "execution_count": null,
   "metadata": {},
   "outputs": [],
   "source": [
    "eos.tasks.corner_plot(analysis_file=af, posterior='CKM-all',\n",
    "                      base_directory='./', format=['pdf', 'png'])"
   ]
  },
  {
   "attachments": {},
   "cell_type": "markdown",
   "metadata": {},
   "source": [
    "We can also generate posterior-predictive samples. Here we produce samples for the branching ratio of the leptonic decay $\\bar{B} \\to \\ell^- \\bar{\\nu}$:"
   ]
  },
  {
   "cell_type": "code",
   "execution_count": null,
   "metadata": {},
   "outputs": [],
   "source": [
    "eos.tasks.predict_observables(analysis_file=af, posterior='CKM-all',\n",
    "                              prediction='leptonic-BR-CKM',\n",
    "                              base_directory=base_directory)"
   ]
  }
 ],
 "metadata": {
  "kernelspec": {
   "display_name": "Python 3",
   "language": "python",
   "name": "python3"
  },
  "language_info": {
   "codemirror_mode": {
    "name": "ipython",
    "version": 3
   },
   "file_extension": ".py",
   "mimetype": "text/x-python",
   "name": "python",
   "nbconvert_exporter": "python",
   "pygments_lexer": "ipython3",
   "version": "3.9.14"
  },
  "vscode": {
   "interpreter": {
    "hash": "916dbcbb3f70747c44a77c7bcd40155683ae19c65e1c03b4aa3499c5328201f1"
   }
  }
 },
 "nbformat": 4,
 "nbformat_minor": 2
}
